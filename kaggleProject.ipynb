{
 "cells": [
  {
   "cell_type": "code",
   "execution_count": 543,
   "metadata": {},
   "outputs": [],
   "source": [
    "# This Python 3 environment comes with many helpful analytics libraries installed\n",
    "# It is defined by the kaggle/python Docker image: https://github.com/kaggle/docker-python\n",
    "# For example, here's several helpful packages to load\n",
    "\n",
    "import numpy as np # linear algebra\n",
    "import pandas as pd # data processing, CSV file I/O (e.g. pd.read_csv)\n",
    "\n",
    "# Input data files are available in the read-only \"../input/\" directory\n",
    "# For example, running this (by clicking run or pressing Shift+Enter) will list all files under the input directory\n",
    "\n",
    "import os\n",
    "for dirname, _, filenames in os.walk('/kaggle/input'):\n",
    "    for filename in filenames:\n",
    "        print(os.path.join(dirname, filename))\n",
    "\n",
    "# You can write up to 20GB to the current directory (/kaggle/working/) that gets preserved as output when you create a version using \"Save & Run All\" \n",
    "# You can also write temporary files to /kaggle/temp/, but they won't be saved outside of the current session"
   ]
  },
  {
   "cell_type": "code",
   "execution_count": 544,
   "metadata": {},
   "outputs": [],
   "source": [
    "#import libraries\n",
    "%matplotlib inline     \n",
    "import matplotlib.pyplot as plt\n",
    "import seaborn as sns\n",
    "from sklearn.model_selection import TimeSeriesSplit\n",
    "from sklearn.model_selection import train_test_split\n",
    "from sklearn.model_selection import GridSearchCV\n",
    "from sklearn.metrics import accuracy_score, confusion_matrix\n",
    "from sklearn.metrics import mean_squared_error\n",
    "from sklearn.preprocessing import StandardScaler\n",
    "from sklearn.pipeline import Pipeline\n",
    "from sklearn.linear_model import LogisticRegression\n",
    "from sklearn.ensemble import RandomForestClassifier\n",
    "\n",
    "\n",
    "\n",
    "from IPython.display import Image, HTML\n",
    "from plotnine import *\n",
    "import pydot\n",
    "from plotnine import *\n",
    "from tqdm import tqdm\n",
    "\n",
    "\n",
    "import warnings\n",
    "warnings.filterwarnings(\"ignore\")"
   ]
  },
  {
   "cell_type": "code",
   "execution_count": 545,
   "metadata": {},
   "outputs": [],
   "source": [
    "import xgboost as xgb"
   ]
  },
  {
   "cell_type": "code",
   "execution_count": 546,
   "metadata": {},
   "outputs": [],
   "source": [
    "# Import dataset from csv to data frame\n",
    "train=pd.read_csv('data/train.csv')\n",
    "test=pd.read_csv('date/test.csv')\n",
    "\n",
    "#train.head(30)"
   ]
  },
  {
   "cell_type": "code",
   "execution_count": 547,
   "metadata": {},
   "outputs": [
    {
     "name": "stdout",
     "output_type": "stream",
     "text": [
      "<class 'pandas.core.frame.DataFrame'>\n",
      "RangeIndex: 14006 entries, 0 to 14005\n",
      "Data columns (total 3 columns):\n",
      " #   Column  Non-Null Count  Dtype  \n",
      "---  ------  --------------  -----  \n",
      " 0   id      14006 non-null  int64  \n",
      " 1   date    14006 non-null  object \n",
      " 2   speed   14006 non-null  float64\n",
      "dtypes: float64(1), int64(1), object(1)\n",
      "memory usage: 328.4+ KB\n"
     ]
    }
   ],
   "source": [
    "#check for missing values\n",
    "train.info()"
   ]
  },
  {
   "cell_type": "code",
   "execution_count": 548,
   "metadata": {},
   "outputs": [
    {
     "name": "stdout",
     "output_type": "stream",
     "text": [
      "<class 'pandas.core.frame.DataFrame'>\n",
      "RangeIndex: 14006 entries, 0 to 14005\n",
      "Data columns (total 3 columns):\n",
      " #   Column  Non-Null Count  Dtype  \n",
      "---  ------  --------------  -----  \n",
      " 0   id      14006 non-null  int64  \n",
      " 1   date    14006 non-null  object \n",
      " 2   speed   14006 non-null  float64\n",
      "dtypes: float64(1), int64(1), object(1)\n",
      "memory usage: 328.4+ KB\n"
     ]
    }
   ],
   "source": [
    "#check for missing values\n",
    "train.info()"
   ]
  },
  {
   "cell_type": "code",
   "execution_count": 549,
   "metadata": {},
   "outputs": [
    {
     "data": {
      "text/plain": [
       "count    14006.000000\n",
       "mean        32.779118\n",
       "std         13.573813\n",
       "min          2.573417\n",
       "25%         19.301089\n",
       "50%         36.580595\n",
       "75%         45.877665\n",
       "max         53.161286\n",
       "Name: speed, dtype: float64"
      ]
     },
     "execution_count": 549,
     "metadata": {},
     "output_type": "execute_result"
    }
   ],
   "source": [
    "#look at the mean, std, min, max etc of the speed\n",
    "train['speed'].describe()"
   ]
  },
  {
   "cell_type": "code",
   "execution_count": 550,
   "metadata": {},
   "outputs": [
    {
     "name": "stdout",
     "output_type": "stream",
     "text": [
      "          id                date      speed  day  month  year      time  hour  \\\n",
      "0          0 2017-01-01 00:00:00  43.002930    1      1  2017  00:00:00     0   \n",
      "1          1 2017-01-01 01:00:00  46.118696    1      1  2017  01:00:00     1   \n",
      "2          2 2017-01-01 02:00:00  44.294158    1      1  2017  02:00:00     2   \n",
      "3          3 2017-01-01 03:00:00  41.067468    1      1  2017  03:00:00     3   \n",
      "4          4 2017-01-01 04:00:00  46.448653    1      1  2017  04:00:00     4   \n",
      "...      ...                 ...        ...  ...    ...   ...       ...   ...   \n",
      "14001  14001 2018-12-31 12:00:00  19.865269   31     12  2018  12:00:00    12   \n",
      "14002  14002 2018-12-31 15:00:00  17.820375   31     12  2018  15:00:00    15   \n",
      "14003  14003 2018-12-31 16:00:00  12.501851   31     12  2018  16:00:00    16   \n",
      "14004  14004 2018-12-31 18:00:00  15.979319   31     12  2018  18:00:00    18   \n",
      "14005  14005 2018-12-31 20:00:00  40.594183   31     12  2018  20:00:00    20   \n",
      "\n",
      "       weekdays  isweekend    dateonly  dayofyear  quarter  timePeriod  \n",
      "0             7          1  2017-01-01          1        1           1  \n",
      "1             7          1  2017-01-01          1        1           1  \n",
      "2             7          1  2017-01-01          1        1           1  \n",
      "3             7          1  2017-01-01          1        1           1  \n",
      "4             7          1  2017-01-01          1        1           1  \n",
      "...         ...        ...         ...        ...      ...         ...  \n",
      "14001         1          0  2018-12-31        365        4           2  \n",
      "14002         1          0  2018-12-31        365        4           2  \n",
      "14003         1          0  2018-12-31        365        4           5  \n",
      "14004         1          0  2018-12-31        365        4           5  \n",
      "14005         1          0  2018-12-31        365        4           6  \n",
      "\n",
      "[14006 rows x 14 columns]\n"
     ]
    }
   ],
   "source": [
    "#split 'date' column into 'day', 'month', 'year', 'time', 'hour' separately\n",
    "from datetime import datetime, date\n",
    "from time import strptime\n",
    "\n",
    "train.date = pd.to_datetime(train.date)\n",
    "train['day'] = train.date.dt.day\n",
    "train['month'] = train.date.dt.month\n",
    "train['year'] = train.date.dt.year\n",
    "train['time'] = train.date.dt.time\n",
    "train['hour'] = train['time'].apply(lambda x: x.strftime('%H:%M:%S').split(':')[0])\n",
    "train['hour'] = train['hour'].astype(int) \n",
    "train['weekdays'] = train.date.dt.dayofweek+1  #check for the day of the week \n",
    "train['isweekend'] = train['weekdays'].apply(lambda x: 1 if x > 5 else 0) #check for the weekend\n",
    "train['dateonly'] = train['date'].dt.strftime('%Y-%m-%d')\n",
    "train['dayofyear'] = train.date.dt.dayofyear\n",
    "\n",
    "\n",
    "#divide months in four quarters \n",
    "def quarters(z):\n",
    "    first = [1,2,3]\n",
    "    second = [4,5,6]\n",
    "    third = [7,8,9]\n",
    "    forth = [10,11,12]\n",
    "    if z in first:\n",
    "        return '1'\n",
    "    elif z in second:\n",
    "        return '2'\n",
    "    elif z in third:\n",
    "        return '3'\n",
    "    else:\n",
    "        return '4' \n",
    "train['quarter'] = train['month'].apply(quarters).astype(int)\n",
    "\n",
    "'''\n",
    "#check for raining months\n",
    "def raining(r):\n",
    "    r17 = [5,6,7,8,9]\n",
    "    y18 = [1,6,8,9,11]\n",
    "    if train['year'] == '2017':\n",
    "        if r in y17:\n",
    "            return '1'\n",
    "        else:\n",
    "            return '0'\n",
    "    else:\n",
    "        if r in y18:\n",
    "            return '1'\n",
    "        else:\n",
    "            return '0'\n",
    "train['rainmonth'] = train['month'].apply(raining).astype(int)\n",
    "'''\n",
    "\n",
    "#check for time period\n",
    "def timeperiod(y):\n",
    "  morningPeak = [7, 8, 9,10,11, 12,13,14,15] #morinig peek in hk\n",
    "  eveningPeak = [16, 17,18,19] #evening peek in hk\n",
    "  #noon = [9,10,18]\n",
    "  #afternoon = [12,13, 14, 15]\n",
    "  weehour = [0,1,2,3, 4, 5, 6] #ealry morning \n",
    "  evening = [20, 21, 22,23]\n",
    "  if y in morningPeak:\n",
    "    return '2'\n",
    "  elif y in eveningPeak:\n",
    "    return '5'\n",
    "  elif y in weehour:\n",
    "    return '1'\n",
    "  else:\n",
    "    return '6'\n",
    "\n",
    "'''\n",
    "def timeperiod(y):\n",
    "    Peak = [7,8,9,10,11,12,13,14,15,16,17,18,19]\n",
    "    if y in Peak:\n",
    "        return '1'\n",
    "    else:\n",
    "        return '0'\n",
    "    \n",
    "'''\n",
    "train['timePeriod'] = train['hour'].apply(timeperiod).astype(int) \n",
    "\n",
    "\n",
    "print(train)\n",
    "#train.head(20)\n"
   ]
  },
  {
   "cell_type": "code",
   "execution_count": 551,
   "metadata": {},
   "outputs": [
    {
     "name": "stdout",
     "output_type": "stream",
     "text": [
      "          id                date      speed  day  month  year      time  hour  \\\n",
      "0          0 2017-01-01 00:00:00  43.002930    1      1  2017  00:00:00     0   \n",
      "1          1 2017-01-01 01:00:00  46.118696    1      1  2017  01:00:00     1   \n",
      "2          2 2017-01-01 02:00:00  44.294158    1      1  2017  02:00:00     2   \n",
      "3          3 2017-01-01 03:00:00  41.067468    1      1  2017  03:00:00     3   \n",
      "4          4 2017-01-01 04:00:00  46.448653    1      1  2017  04:00:00     4   \n",
      "...      ...                 ...        ...  ...    ...   ...       ...   ...   \n",
      "14001  14001 2018-12-31 12:00:00  19.865269   31     12  2018  12:00:00    12   \n",
      "14002  14002 2018-12-31 15:00:00  17.820375   31     12  2018  15:00:00    15   \n",
      "14003  14003 2018-12-31 16:00:00  12.501851   31     12  2018  16:00:00    16   \n",
      "14004  14004 2018-12-31 18:00:00  15.979319   31     12  2018  18:00:00    18   \n",
      "14005  14005 2018-12-31 20:00:00  40.594183   31     12  2018  20:00:00    20   \n",
      "\n",
      "       weekdays  isweekend    dateonly  dayofyear  quarter  timePeriod  \\\n",
      "0             7          1  2017-01-01          1        1           1   \n",
      "1             7          1  2017-01-01          1        1           1   \n",
      "2             7          1  2017-01-01          1        1           1   \n",
      "3             7          1  2017-01-01          1        1           1   \n",
      "4             7          1  2017-01-01          1        1           1   \n",
      "...         ...        ...         ...        ...      ...         ...   \n",
      "14001         1          0  2018-12-31        365        4           2   \n",
      "14002         1          0  2018-12-31        365        4           2   \n",
      "14003         1          0  2018-12-31        365        4           5   \n",
      "14004         1          0  2018-12-31        365        4           5   \n",
      "14005         1          0  2018-12-31        365        4           6   \n",
      "\n",
      "       isholiday  \n",
      "0              0  \n",
      "1              0  \n",
      "2              0  \n",
      "3              0  \n",
      "4              0  \n",
      "...          ...  \n",
      "14001          0  \n",
      "14002          0  \n",
      "14003          0  \n",
      "14004          0  \n",
      "14005          0  \n",
      "\n",
      "[14006 rows x 15 columns]\n"
     ]
    }
   ],
   "source": [
    "#check for if the day is holiday\n",
    "\n",
    "#find all the holiday date from the website https://www.gov.hk/en/about/abouthk/holiday/2020.htm for year 2017&2018\n",
    "train['isholiday'] = train['dateonly'].apply(lambda y: 1 if y in ['2017-01-02','2017-01-28','2017-01-30','2017-01-31','2017-04-04','2017-04-14','2017-04-15','2017-04-17','2017-05-03','2017-05-01','2017-05-30',\n",
    " '2017-07-01','2017-10-05','2017-10-02','2017-10-28','2017-12-25','2017-12-26','2018-01-01','2018-02-16','2018-02-17','2018-02-19','2018-04-05',\n",
    " '2018-03-30','2018-03-31','2018-04-02','2018-05-22','2018-05-01','2018-06-18', '2018-07-02','2018-09-25','2018-10-01','2018-10-17','2018-12-25','2018-12-26'] else 0).astype(int) \n",
    "\n",
    "print(train)\n",
    "#train.head(20)"
   ]
  },
  {
   "cell_type": "code",
   "execution_count": 552,
   "metadata": {},
   "outputs": [],
   "source": [
    "train['week'] = train.date.dt.weekofyear"
   ]
  },
  {
   "cell_type": "code",
   "execution_count": 553,
   "metadata": {},
   "outputs": [
    {
     "name": "stdout",
     "output_type": "stream",
     "text": [
      "           speed  day  month  year  hour  weekdays  isweekend  dayofyear  \\\n",
      "0      43.002930    1      1  2017     0         7          1          1   \n",
      "1      46.118696    1      1  2017     1         7          1          1   \n",
      "2      44.294158    1      1  2017     2         7          1          1   \n",
      "3      41.067468    1      1  2017     3         7          1          1   \n",
      "4      46.448653    1      1  2017     4         7          1          1   \n",
      "...          ...  ...    ...   ...   ...       ...        ...        ...   \n",
      "14001  19.865269   31     12  2018    12         1          0        365   \n",
      "14002  17.820375   31     12  2018    15         1          0        365   \n",
      "14003  12.501851   31     12  2018    16         1          0        365   \n",
      "14004  15.979319   31     12  2018    18         1          0        365   \n",
      "14005  40.594183   31     12  2018    20         1          0        365   \n",
      "\n",
      "       quarter  timePeriod  isholiday  week  \n",
      "0            1           1          0    52  \n",
      "1            1           1          0    52  \n",
      "2            1           1          0    52  \n",
      "3            1           1          0    52  \n",
      "4            1           1          0    52  \n",
      "...        ...         ...        ...   ...  \n",
      "14001        4           2          0     1  \n",
      "14002        4           2          0     1  \n",
      "14003        4           5          0     1  \n",
      "14004        4           5          0     1  \n",
      "14005        4           6          0     1  \n",
      "\n",
      "[14006 rows x 12 columns]\n"
     ]
    }
   ],
   "source": [
    "#drop useless features in train \n",
    "train = train.copy()\n",
    "train.drop([\"date\"], axis = 1, inplace = True)\n",
    "train.drop([\"time\"], axis = 1, inplace = True)\n",
    "train.drop([\"id\"], axis = 1, inplace = True)\n",
    "train.drop([\"dateonly\"], axis = 1, inplace = True)\n",
    "print(train)"
   ]
  },
  {
   "cell_type": "code",
   "execution_count": 554,
   "metadata": {},
   "outputs": [
    {
     "name": "stdout",
     "output_type": "stream",
     "text": [
      "        id                date  day  month  year      time  hour  weekdays  \\\n",
      "0        0 2018-01-01 02:00:00    1      1  2018  02:00:00     2         1   \n",
      "1        1 2018-01-01 05:00:00    1      1  2018  05:00:00     5         1   \n",
      "2        2 2018-01-01 07:00:00    1      1  2018  07:00:00     7         1   \n",
      "3        3 2018-01-01 08:00:00    1      1  2018  08:00:00     8         1   \n",
      "4        4 2018-01-01 10:00:00    1      1  2018  10:00:00    10         1   \n",
      "...    ...                 ...  ...    ...   ...       ...   ...       ...   \n",
      "3499  3499 2018-12-31 17:00:00   31     12  2018  17:00:00    17         1   \n",
      "3500  3500 2018-12-31 19:00:00   31     12  2018  19:00:00    19         1   \n",
      "3501  3501 2018-12-31 21:00:00   31     12  2018  21:00:00    21         1   \n",
      "3502  3502 2018-12-31 22:00:00   31     12  2018  22:00:00    22         1   \n",
      "3503  3503 2018-12-31 23:00:00   31     12  2018  23:00:00    23         1   \n",
      "\n",
      "      isweekend  dayofyear  quarter  timePeriod  \n",
      "0             0          1        1           1  \n",
      "1             0          1        1           1  \n",
      "2             0          1        1           2  \n",
      "3             0          1        1           2  \n",
      "4             0          1        1           2  \n",
      "...         ...        ...      ...         ...  \n",
      "3499          0        365        4           5  \n",
      "3500          0        365        4           5  \n",
      "3501          0        365        4           6  \n",
      "3502          0        365        4           6  \n",
      "3503          0        365        4           6  \n",
      "\n",
      "[3504 rows x 12 columns]\n"
     ]
    }
   ],
   "source": [
    "#preprocessing for test data\n",
    "test.date = pd.to_datetime(test.date)\n",
    "test['day'] = test.date.dt.day\n",
    "test['month'] = test.date.dt.month\n",
    "test['year'] = test.date.dt.year\n",
    "test['time'] = test.date.dt.time\n",
    "test['hour'] = test['time'].apply(lambda x: x.strftime('%H:%M:%S').split(':')[0])\n",
    "test['hour'] = test['hour'].astype(int)\n",
    "test['weekdays'] = test.date.dt.dayofweek+1  #check for the day of the week \n",
    "test['isweekend'] = test['weekdays'].apply(lambda x: 1 if x > 5 else 0) #check for the weekend\n",
    "test['dayofyear'] = test.date.dt.dayofyear\n",
    "\n",
    "#divide months in four quarters \n",
    "def quarters(z):\n",
    "    first = [1,2,3]\n",
    "    second = [4,5,6]\n",
    "    third = [7,8,9]\n",
    "    forth = [10,11,12]\n",
    "    if z in first:\n",
    "        return '1'\n",
    "    elif z in second:\n",
    "        return '2'\n",
    "    elif z in third:\n",
    "        return '3'\n",
    "    else:\n",
    "        return '4' \n",
    "test['quarter'] = test['month'].apply(quarters).astype(int)\n",
    "\n",
    "'''\n",
    "#check for raining months\n",
    "def raining(r):\n",
    "    r17 = [5,6,7,8,9]\n",
    "    y18 = [1,6,8,9,11]\n",
    "    if test['year'] == 2017:\n",
    "        if r in y17:\n",
    "            return '1'\n",
    "        else:\n",
    "            return '0'\n",
    "    else:\n",
    "        if r in y18:\n",
    "            return '1'\n",
    "        else:\n",
    "            return '0'\n",
    "test['rainmonth'] = test['month'].apply(raining).astype(int)\n",
    "'''\n",
    "\n",
    "#check for time period\n",
    "def timeperiod(y):\n",
    "  morningPeak = [7, 8, 9,10,11, 12,13,14,15] #morinig peek in hk\n",
    "  eveningPeak = [16, 17,18,19] #evening peek in hk\n",
    "  #noon = [9,10,18]\n",
    "  #afternoon = [12,13, 14, 15]\n",
    "  weehour = [0,1,2,3, 4, 5, 6] #ealry morning \n",
    "  evening = [20, 21, 22,23]\n",
    "  if y in morningPeak:\n",
    "    return '2'\n",
    "  elif y in eveningPeak:\n",
    "    return '5'\n",
    "  elif y in weehour:\n",
    "    return '1'\n",
    "  else:\n",
    "    return '6'\n",
    "'''\n",
    "def timeperiod(y):\n",
    "  Peak = [7,8,9,10,11,12,13,14,15,16,17,18,19] #morinig peek in hk\n",
    "  if y in Peak:\n",
    "    return '1'\n",
    "  else:\n",
    "    return '0'\n",
    "'''\n",
    "\n",
    "test['timePeriod'] = test['hour'].apply(timeperiod).astype(int) \n",
    "print(test)"
   ]
  },
  {
   "cell_type": "code",
   "execution_count": 555,
   "metadata": {},
   "outputs": [
    {
     "name": "stdout",
     "output_type": "stream",
     "text": [
      "        id                date  day  month  year      time  hour  weekdays  \\\n",
      "0        0 2018-01-01 02:00:00    1      1  2018  02:00:00     2         1   \n",
      "1        1 2018-01-01 05:00:00    1      1  2018  05:00:00     5         1   \n",
      "2        2 2018-01-01 07:00:00    1      1  2018  07:00:00     7         1   \n",
      "3        3 2018-01-01 08:00:00    1      1  2018  08:00:00     8         1   \n",
      "4        4 2018-01-01 10:00:00    1      1  2018  10:00:00    10         1   \n",
      "...    ...                 ...  ...    ...   ...       ...   ...       ...   \n",
      "3499  3499 2018-12-31 17:00:00   31     12  2018  17:00:00    17         1   \n",
      "3500  3500 2018-12-31 19:00:00   31     12  2018  19:00:00    19         1   \n",
      "3501  3501 2018-12-31 21:00:00   31     12  2018  21:00:00    21         1   \n",
      "3502  3502 2018-12-31 22:00:00   31     12  2018  22:00:00    22         1   \n",
      "3503  3503 2018-12-31 23:00:00   31     12  2018  23:00:00    23         1   \n",
      "\n",
      "      isweekend  dayofyear  quarter  timePeriod    dateonly  isholiday  \n",
      "0             0          1        1           1  2018-01-01          1  \n",
      "1             0          1        1           1  2018-01-01          1  \n",
      "2             0          1        1           2  2018-01-01          1  \n",
      "3             0          1        1           2  2018-01-01          1  \n",
      "4             0          1        1           2  2018-01-01          1  \n",
      "...         ...        ...      ...         ...         ...        ...  \n",
      "3499          0        365        4           5  2018-12-31          0  \n",
      "3500          0        365        4           5  2018-12-31          0  \n",
      "3501          0        365        4           6  2018-12-31          0  \n",
      "3502          0        365        4           6  2018-12-31          0  \n",
      "3503          0        365        4           6  2018-12-31          0  \n",
      "\n",
      "[3504 rows x 14 columns]\n"
     ]
    }
   ],
   "source": [
    "#check for if the day is holiday in testing\n",
    "test['dateonly'] = test['date'].apply(lambda x: x.strftime('%Y-%m-%d'))\n",
    "\n",
    "#find all the holiday date from the website https://www.gov.hk/en/about/abouthk/holiday/2020.htm for year 2017&2018\n",
    "test['isholiday'] = test['dateonly'].apply(lambda y: 1 if y in ['2017-01-02','2017-01-28','2017-01-30','2017-01-31','2017-04-04','2017-04-14','2017-04-15','2017-04-17','2017-05-03','2017-05-01','2017-05-30',\n",
    " '2017-07-01','2017-10-05','2017-10-02','2017-10-28','2017-12-25','2017-12-26','2018-01-01','2018-02-16','2018-02-17','2018-02-19','2018-04-05',\n",
    " '2018-03-30','2018-03-31','2018-04-02','2018-05-22','2018-05-01','2018-06-18', '2018-07-02','2018-09-25','2018-10-01','2018-10-17','2018-12-25','2018-12-26'] else 0).astype(int)  \n",
    "\n",
    "print(test)"
   ]
  },
  {
   "cell_type": "code",
   "execution_count": 556,
   "metadata": {},
   "outputs": [],
   "source": [
    "#test['israin'] = test['dateonly'].apply(lambda y: 1 if y in rains else 0).astype(int) \n",
    "test['week'] = test.date.dt.weekofyear"
   ]
  },
  {
   "cell_type": "code",
   "execution_count": 557,
   "metadata": {},
   "outputs": [
    {
     "name": "stdout",
     "output_type": "stream",
     "text": [
      "      day  month  year  hour  weekdays  isweekend  dayofyear  quarter  \\\n",
      "0       1      1  2018     2         1          0          1        1   \n",
      "1       1      1  2018     5         1          0          1        1   \n",
      "2       1      1  2018     7         1          0          1        1   \n",
      "3       1      1  2018     8         1          0          1        1   \n",
      "4       1      1  2018    10         1          0          1        1   \n",
      "...   ...    ...   ...   ...       ...        ...        ...      ...   \n",
      "3499   31     12  2018    17         1          0        365        4   \n",
      "3500   31     12  2018    19         1          0        365        4   \n",
      "3501   31     12  2018    21         1          0        365        4   \n",
      "3502   31     12  2018    22         1          0        365        4   \n",
      "3503   31     12  2018    23         1          0        365        4   \n",
      "\n",
      "      timePeriod  isholiday  week  \n",
      "0              1          1     1  \n",
      "1              1          1     1  \n",
      "2              2          1     1  \n",
      "3              2          1     1  \n",
      "4              2          1     1  \n",
      "...          ...        ...   ...  \n",
      "3499           5          0     1  \n",
      "3500           5          0     1  \n",
      "3501           6          0     1  \n",
      "3502           6          0     1  \n",
      "3503           6          0     1  \n",
      "\n",
      "[3504 rows x 11 columns]\n"
     ]
    }
   ],
   "source": [
    "#drop useless features in test\n",
    "test = test.copy()\n",
    "test.drop([\"date\"], axis = 1, inplace = True)\n",
    "test.drop([\"time\"], axis = 1, inplace = True)\n",
    "test.drop([\"id\"], axis = 1, inplace = True)\n",
    "test.drop([\"dateonly\"], axis = 1, inplace = True)\n",
    "print(test)"
   ]
  },
  {
   "cell_type": "code",
   "execution_count": 558,
   "metadata": {},
   "outputs": [
    {
     "data": {
      "image/png": "[encoded data removed]",
      "text/plain": [
       "<Figure size 640x480 with 1 Axes>"
      ]
     },
     "metadata": {},
     "output_type": "display_data"
    },
    {
     "data": {
      "text/plain": [
       "<ggplot: (308708461)>"
      ]
     },
     "execution_count": 558,
     "metadata": {},
     "output_type": "execute_result"
    }
   ],
   "source": [
    "#ggplot for overview\n",
    "ggplot(train, aes(x='hour', y='speed')) + geom_bin2d(bins = 20)"
   ]
  },
  {
   "cell_type": "code",
   "execution_count": 559,
   "metadata": {},
   "outputs": [],
   "source": [
    "#import necessary package\n",
    "from sklearn import model_selection\n",
    "from sklearn.metrics import r2_score\n",
    "from sklearn.metrics import mean_squared_error\n",
    "from sklearn.metrics import accuracy_score,make_scorer\n",
    "from math import sqrt"
   ]
  },
  {
   "cell_type": "code",
   "execution_count": 565,
   "metadata": {},
   "outputs": [],
   "source": [
    "#choose the useful features for training \n",
    "X_train = train[['day', 'month', 'year', 'hour', 'weekdays','dayofyear','timePeriod', 'isholiday','week']]\n",
    "Y_train = train.speed"
   ]
  },
  {
   "cell_type": "code",
   "execution_count": 566,
   "metadata": {},
   "outputs": [
    {
     "name": "stdout",
     "output_type": "stream",
     "text": [
      "       day  month  year  hour  weekdays  dayofyear  timePeriod  isholiday  \\\n",
      "12779   10      2  2018    20         6         41           6          0   \n",
      "3315    19      5  2017    12         5        139           2          0   \n",
      "1173    19      2  2017     6         7         50           1          0   \n",
      "11482    7      5  2018     5         1        127           1          0   \n",
      "10350   19      4  2018    22         4        109           6          0   \n",
      "...    ...    ...   ...   ...       ...        ...         ...        ...   \n",
      "905      2      8  2017     2         3        214           1          0   \n",
      "5192     8      5  2017    18         1        128           5          0   \n",
      "12172   20      8  2018    11         1        232           2          0   \n",
      "235      1     10  2017    19         7        274           5          0   \n",
      "13349   13     11  2018     3         2        317           1          0   \n",
      "\n",
      "       week  \n",
      "12779     6  \n",
      "3315     20  \n",
      "1173      7  \n",
      "11482    19  \n",
      "10350    16  \n",
      "...     ...  \n",
      "905      31  \n",
      "5192     19  \n",
      "12172    34  \n",
      "235      39  \n",
      "13349    46  \n",
      "\n",
      "[11204 rows x 9 columns]\n",
      "12779    37.790674\n",
      "3315     14.104023\n",
      "1173     44.846875\n",
      "11482    47.597642\n",
      "10350    38.255622\n",
      "           ...    \n",
      "905      46.702901\n",
      "5192     17.797131\n",
      "12172    14.488768\n",
      "235      21.055294\n",
      "13349    49.457242\n",
      "Name: speed, Length: 11204, dtype: float64\n"
     ]
    }
   ],
   "source": [
    "#split the train set \n",
    "X_train,X_test,Y_train,Y_test=train_test_split(X_train, Y_train, test_size=0.2, random_state = 1)\n",
    "print(X_train)\n",
    "print(Y_train)"
   ]
  },
  {
   "cell_type": "code",
   "execution_count": 570,
   "metadata": {},
   "outputs": [
    {
     "data": {
      "text/plain": [
       "\"\\nfrom sklearn.model_selection import GridSearchCV\\nXGBoost = xgb.XGBRegressor()\\nparams = {'learning_rate': [0.05,0.1],\\n            # 'colsample_bytree': [0.7,0.8,1],\\n            #'subsample': [0.8,0.9], \\n            #'max_depth': [8,10,30],\\n             #'reg_lambda':[1,2,3],\\n            #  'min_child_weight': [2,4],\\n          # 'base_score': [1,3],\\n          # 'gamma':[0.2,0.6,1]\\n            }\\n\\ngridxgb= GridSearchCV(XGBoost, params, scoring='r2', cv=5, verbose=1, n_jobs=5)\\ngridxgb.fit(X_train, Y_train)\\nresult = gridxgb.cv_results_\\nprint(result)\\n\""
      ]
     },
     "execution_count": 570,
     "metadata": {},
     "output_type": "execute_result"
    }
   ],
   "source": [
    "#grid search for best parameters\n",
    "'''\n",
    "from sklearn.model_selection import GridSearchCV\n",
    "XGBoost = xgb.XGBRegressor()\n",
    "params = {'learning_rate': [0.05,0.1],\n",
    "            # 'colsample_bytree': [0.7,0.8,1],\n",
    "            #'subsample': [0.8,0.9], \n",
    "            #'max_depth': [8,10,30],\n",
    "             #'reg_lambda':[1,2,3],\n",
    "            #  'min_child_weight': [2,4],\n",
    "          # 'base_score': [1,3],\n",
    "          # 'gamma':[0.2,0.6,1]\n",
    "            }\n",
    "\n",
    "gridxgb= GridSearchCV(XGBoost, params, scoring='r2', cv=5, verbose=1, n_jobs=5)\n",
    "gridxgb.fit(X_train, Y_train)\n",
    "result = gridxgb.cv_results_\n",
    "print(result)\n",
    "'''"
   ]
  },
  {
   "cell_type": "code",
   "execution_count": 571,
   "metadata": {},
   "outputs": [
    {
     "name": "stdout",
     "output_type": "stream",
     "text": [
      "0.9736856457881342\n",
      "0.928847663784779\n"
     ]
    }
   ],
   "source": [
    "#use XGBoost Regressor as the model to predict\n",
    "import xgboost as xgb\n",
    "XGBoost = xgb.XGBRegressor(objective='reg:squarederror',colsample_bytree=0.8, \n",
    "                 n_estimators = 600, reg_lambda = 1,  gamma = 0.6,     \n",
    "                learning_rate=0.1, scale_pos_weight=3, base_score = 1,\n",
    "                 max_depth=35,   min_child_weight = 2,                                         \n",
    "                 alpha = 20)\n",
    "XGBoost.fit(X_train, Y_train)\n",
    "predxgbTrain = XGBoost.predict(X_train)\n",
    "print(r2_score(Y_train, predxgbTrain))\n",
    "predxgbTest = XGBoost.predict(X_test)\n",
    "print(r2_score(Y_test, predxgbTest))\n"
   ]
  },
  {
   "cell_type": "code",
   "execution_count": 572,
   "metadata": {},
   "outputs": [
    {
     "name": "stdout",
     "output_type": "stream",
     "text": [
      "13.294721672842746\n"
     ]
    }
   ],
   "source": [
    "#get the rmse value\n",
    "rfmsexgb =mean_squared_error(predxgbTest, Y_test)\n",
    "print(rfmsexgb)"
   ]
  },
  {
   "cell_type": "code",
   "execution_count": 573,
   "metadata": {},
   "outputs": [
    {
     "data": {
      "text/html": [
       "<div>\n",
       "<style scoped>\n",
       "    .dataframe tbody tr th:only-of-type {\n",
       "        vertical-align: middle;\n",
       "    }\n",
       "\n",
       "    .dataframe tbody tr th {\n",
       "        vertical-align: top;\n",
       "    }\n",
       "\n",
       "    .dataframe thead th {\n",
       "        text-align: right;\n",
       "    }\n",
       "</style>\n",
       "<table border=\"1\" class=\"dataframe\">\n",
       "  <thead>\n",
       "    <tr style=\"text-align: right;\">\n",
       "      <th></th>\n",
       "      <th>Importance</th>\n",
       "    </tr>\n",
       "  </thead>\n",
       "  <tbody>\n",
       "    <tr>\n",
       "      <th>timePeriod</th>\n",
       "      <td>0.778111</td>\n",
       "    </tr>\n",
       "    <tr>\n",
       "      <th>hour</th>\n",
       "      <td>0.116152</td>\n",
       "    </tr>\n",
       "    <tr>\n",
       "      <th>weekdays</th>\n",
       "      <td>0.035921</td>\n",
       "    </tr>\n",
       "    <tr>\n",
       "      <th>isholiday</th>\n",
       "      <td>0.026568</td>\n",
       "    </tr>\n",
       "    <tr>\n",
       "      <th>day</th>\n",
       "      <td>0.015486</td>\n",
       "    </tr>\n",
       "    <tr>\n",
       "      <th>year</th>\n",
       "      <td>0.007371</td>\n",
       "    </tr>\n",
       "    <tr>\n",
       "      <th>week</th>\n",
       "      <td>0.007200</td>\n",
       "    </tr>\n",
       "    <tr>\n",
       "      <th>month</th>\n",
       "      <td>0.006942</td>\n",
       "    </tr>\n",
       "    <tr>\n",
       "      <th>dayofyear</th>\n",
       "      <td>0.006250</td>\n",
       "    </tr>\n",
       "  </tbody>\n",
       "</table>\n",
       "</div>"
      ],
      "text/plain": [
       "            Importance\n",
       "timePeriod    0.778111\n",
       "hour          0.116152\n",
       "weekdays      0.035921\n",
       "isholiday     0.026568\n",
       "day           0.015486\n",
       "year          0.007371\n",
       "week          0.007200\n",
       "month         0.006942\n",
       "dayofyear     0.006250"
      ]
     },
     "execution_count": 573,
     "metadata": {},
     "output_type": "execute_result"
    }
   ],
   "source": [
    "pd.DataFrame(XGBoost.feature_importances_,\n",
    "             index=X_test.columns,columns=['Importance']).sort_values(by='Importance',ascending=False)[:20]"
   ]
  },
  {
   "cell_type": "code",
   "execution_count": 574,
   "metadata": {},
   "outputs": [],
   "source": [
    "prediction_test = XGBoost.predict(test.drop(['isweekend','quarter'], axis = 1))"
   ]
  },
  {
   "cell_type": "code",
   "execution_count": 575,
   "metadata": {},
   "outputs": [
    {
     "data": {
      "text/html": [
       "<div>\n",
       "<style scoped>\n",
       "    .dataframe tbody tr th:only-of-type {\n",
       "        vertical-align: middle;\n",
       "    }\n",
       "\n",
       "    .dataframe tbody tr th {\n",
       "        vertical-align: top;\n",
       "    }\n",
       "\n",
       "    .dataframe thead th {\n",
       "        text-align: right;\n",
       "    }\n",
       "</style>\n",
       "<table border=\"1\" class=\"dataframe\">\n",
       "  <thead>\n",
       "    <tr style=\"text-align: right;\">\n",
       "      <th></th>\n",
       "      <th>speed</th>\n",
       "    </tr>\n",
       "  </thead>\n",
       "  <tbody>\n",
       "    <tr>\n",
       "      <th>0</th>\n",
       "      <td>47.235332</td>\n",
       "    </tr>\n",
       "    <tr>\n",
       "      <th>1</th>\n",
       "      <td>47.880440</td>\n",
       "    </tr>\n",
       "    <tr>\n",
       "      <th>2</th>\n",
       "      <td>37.082718</td>\n",
       "    </tr>\n",
       "    <tr>\n",
       "      <th>3</th>\n",
       "      <td>27.299904</td>\n",
       "    </tr>\n",
       "    <tr>\n",
       "      <th>4</th>\n",
       "      <td>36.325165</td>\n",
       "    </tr>\n",
       "  </tbody>\n",
       "</table>\n",
       "</div>"
      ],
      "text/plain": [
       "       speed\n",
       "0  47.235332\n",
       "1  47.880440\n",
       "2  37.082718\n",
       "3  27.299904\n",
       "4  36.325165"
      ]
     },
     "execution_count": 575,
     "metadata": {},
     "output_type": "execute_result"
    }
   ],
   "source": [
    "prediction = pd.DataFrame({'speed':list(prediction_test)},columns=['speed'])\n",
    "submission=pd.concat([prediction.speed], axis = 1)\n",
    "submission.head()"
   ]
  },
  {
   "cell_type": "code",
   "execution_count": 539,
   "metadata": {},
   "outputs": [
    {
     "name": "stdout",
     "output_type": "stream",
     "text": [
      "        id      speed\n",
      "0        0  47.235332\n",
      "1        1  47.880440\n",
      "2        2  37.082718\n",
      "3        3  27.299904\n",
      "4        4  36.325165\n",
      "...    ...        ...\n",
      "3499  3499  13.268041\n",
      "3500  3500  26.449221\n",
      "3501  3501  44.536217\n",
      "3502  3502  40.456333\n",
      "3503  3503  42.567787\n",
      "\n",
      "[3504 rows x 2 columns]\n"
     ]
    }
   ],
   "source": [
    "sub = pd.read_csv('data/sampleSubmission.csv')\n",
    "sub['speed'] = submission\n",
    "print(sub)"
   ]
  },
  {
   "cell_type": "code",
   "execution_count": 540,
   "metadata": {},
   "outputs": [],
   "source": [
    "sub.to_csv('Prediction.csv',index = False)"
   ]
  },
  {
   "cell_type": "code",
   "execution_count": null,
   "metadata": {},
   "outputs": [],
   "source": []
  }
 ],
 "metadata": {
  "kernelspec": {
   "display_name": "Python 3",
   "language": "python",
   "name": "python3"
  },
  "language_info": {
   "codemirror_mode": {
    "name": "ipython",
    "version": 3
   },
   "file_extension": ".py",
   "mimetype": "text/x-python",
   "name": "python",
   "nbconvert_exporter": "python",
   "pygments_lexer": "ipython3",
   "version": "3.8.5"
  }
 },
 "nbformat": 4,
 "nbformat_minor": 4
}
